{
 "cells": [
  {
   "cell_type": "code",
   "execution_count": 1,
   "id": "8b2dfa6c-9106-4be4-9a81-1a1355bba1bb",
   "metadata": {},
   "outputs": [
    {
     "name": "stdout",
     "output_type": "stream",
     "text": [
      "5.0\n"
     ]
    }
   ],
   "source": [
    "a = 5\n",
    "b = 2\n",
    "print(a / b * 2)"
   ]
  },
  {
   "cell_type": "code",
   "execution_count": 2,
   "id": "65979c2a-77e5-44ea-a9e3-eba82bed88c0",
   "metadata": {},
   "outputs": [
    {
     "name": "stdout",
     "output_type": "stream",
     "text": [
      "<class 'int'>\n"
     ]
    }
   ],
   "source": [
    "x = 7 // 2\n",
    "print(type(x))"
   ]
  },
  {
   "cell_type": "code",
   "execution_count": 3,
   "id": "0e2d2eb4-b697-48d1-bbf4-af9577784261",
   "metadata": {},
   "outputs": [
    {
     "name": "stdout",
     "output_type": "stream",
     "text": [
      "5222\n"
     ]
    }
   ],
   "source": [
    "print(\"5\" + \"2\" * 3)"
   ]
  },
  {
   "cell_type": "code",
   "execution_count": 4,
   "id": "dc2296b3-b970-4c57-8f4b-efb035f9138b",
   "metadata": {},
   "outputs": [
    {
     "name": "stdout",
     "output_type": "stream",
     "text": [
      "2\n"
     ]
    }
   ],
   "source": [
    "print(True + True + False)"
   ]
  },
  {
   "cell_type": "code",
   "execution_count": 5,
   "id": "4ed9fad6-5279-4037-93f5-3dba6dd61217",
   "metadata": {},
   "outputs": [
    {
     "name": "stdout",
     "output_type": "stream",
     "text": [
      "4\n"
     ]
    }
   ],
   "source": [
    "a = 10\n",
    "b = 3\n",
    "print(a % b + b % a)"
   ]
  },
  {
   "cell_type": "code",
   "execution_count": 6,
   "id": "773fe883-471a-47d5-bcc9-fbc3c7bfe9ee",
   "metadata": {},
   "outputs": [
    {
     "name": "stdout",
     "output_type": "stream",
     "text": [
      "PPP\n"
     ]
    }
   ],
   "source": [
    "x = \"Python\"\n",
    "print(x[0] * 3)"
   ]
  },
  {
   "cell_type": "code",
   "execution_count": 7,
   "id": "e6efe96d-e457-43e9-ada5-a638a4f7db88",
   "metadata": {},
   "outputs": [
    {
     "name": "stdout",
     "output_type": "stream",
     "text": [
      "True\n"
     ]
    }
   ],
   "source": [
    "a = 5\n",
    "b = 10\n",
    "print(a > b or a < b)"
   ]
  },
  {
   "cell_type": "code",
   "execution_count": 8,
   "id": "72f9b128-f858-4be2-8a4e-0eb31de949fa",
   "metadata": {},
   "outputs": [
    {
     "name": "stdout",
     "output_type": "stream",
     "text": [
      "True True False\n"
     ]
    }
   ],
   "source": [
    "print(0 == False, 1 == True, 2 == True)"
   ]
  },
  {
   "cell_type": "code",
   "execution_count": 9,
   "id": "4cf88ede-287c-4fbe-9d1b-1c8f72726492",
   "metadata": {},
   "outputs": [
    {
     "name": "stdout",
     "output_type": "stream",
     "text": [
      "553\n"
     ]
    }
   ],
   "source": [
    "print(\"5\" * 2 + \"3\")"
   ]
  },
  {
   "cell_type": "code",
   "execution_count": 10,
   "id": "c0c12769-e02e-4de4-b9dc-1b7707c67932",
   "metadata": {},
   "outputs": [
    {
     "name": "stdout",
     "output_type": "stream",
     "text": [
      "8\n"
     ]
    }
   ],
   "source": [
    "a = 4\n",
    "b = 2\n",
    "c = a ** b // b\n",
    "print(c)"
   ]
  },
  {
   "cell_type": "code",
   "execution_count": 11,
   "id": "b89a7dd0-96ac-48c6-b815-53db60cb3f00",
   "metadata": {},
   "outputs": [
    {
     "name": "stdout",
     "output_type": "stream",
     "text": [
      "True\n"
     ]
    }
   ],
   "source": [
    "x = 5\n",
    "print(x > 3 and x < 7 or x == 5)"
   ]
  },
  {
   "cell_type": "code",
   "execution_count": 12,
   "id": "2794f185-bef9-41ed-82bc-a86eff5822f8",
   "metadata": {},
   "outputs": [
    {
     "name": "stdout",
     "output_type": "stream",
     "text": [
      "3333\n"
     ]
    }
   ],
   "source": [
    "x = \"3\"\n",
    "y = 4\n",
    "print(x * y)"
   ]
  },
  {
   "cell_type": "code",
   "execution_count": 13,
   "id": "348e24c3-581e-4641-8ac5-73ec99b7a4f7",
   "metadata": {},
   "outputs": [
    {
     "name": "stdout",
     "output_type": "stream",
     "text": [
      "16.0\n"
     ]
    }
   ],
   "source": [
    "print(10 / 2 * 3 + 1)"
   ]
  },
  {
   "cell_type": "code",
   "execution_count": 14,
   "id": "c5cd1c1f-68d6-4eeb-b02f-97b901037a00",
   "metadata": {},
   "outputs": [
    {
     "name": "stdout",
     "output_type": "stream",
     "text": [
      "11\n"
     ]
    }
   ],
   "source": [
    "a = 5\n",
    "b = 2\n",
    "c = 3\n",
    "print(a + b * c)"
   ]
  },
  {
   "cell_type": "code",
   "execution_count": 15,
   "id": "216575ee-8ce6-4000-b042-58f7e4fa6ae1",
   "metadata": {},
   "outputs": [
    {
     "name": "stdout",
     "output_type": "stream",
     "text": [
      "False\n"
     ]
    }
   ],
   "source": [
    "print(not True + False)"
   ]
  },
  {
   "cell_type": "code",
   "execution_count": null,
   "id": "b615c6e7-129e-4025-849a-fafef6e85601",
   "metadata": {},
   "outputs": [],
   "source": []
  }
 ],
 "metadata": {
  "kernelspec": {
   "display_name": "Python 11",
   "language": "python",
   "name": "python11"
  },
  "language_info": {
   "codemirror_mode": {
    "name": "ipython",
    "version": 3
   },
   "file_extension": ".py",
   "mimetype": "text/x-python",
   "name": "python",
   "nbconvert_exporter": "python",
   "pygments_lexer": "ipython3",
   "version": "3.11.11"
  }
 },
 "nbformat": 4,
 "nbformat_minor": 5
}
