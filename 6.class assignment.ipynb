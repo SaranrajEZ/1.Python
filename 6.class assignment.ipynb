{
 "cells": [
  {
   "cell_type": "code",
   "execution_count": 24,
   "id": "1407ddca",
   "metadata": {},
   "outputs": [],
   "source": [
    "class addevenfind():\n",
    "    def addeven():\n",
    "        num=int(input(\"enter the number\"))\n",
    "        if((num%2)==0):\n",
    "            print(num, \"is even number\")\n",
    "        else:\n",
    "            print(num, \"is odd number\")     "
   ]
  },
  {
   "cell_type": "code",
   "execution_count": 25,
   "id": "99b41d12",
   "metadata": {},
   "outputs": [
    {
     "name": "stdout",
     "output_type": "stream",
     "text": [
      "enter the number52452\n",
      "52452 is even number\n"
     ]
    }
   ],
   "source": [
    "addevenfind.addeven()"
   ]
  },
  {
   "cell_type": "code",
   "execution_count": 12,
   "id": "c192e8c6",
   "metadata": {},
   "outputs": [
    {
     "name": "stdout",
     "output_type": "stream",
     "text": [
      "subfields in ai are:\n",
      "Machine Learning\n",
      "Neural Networks\n",
      "Vision\n",
      "Robotics\n",
      "Speech Processing\n",
      "Natural Language Processing\n"
     ]
    }
   ],
   "source": [
    "class subfieldsai():\n",
    "    def subfields():\n",
    "        print(\"subfields in ai are:\")\n",
    "        \n",
    "        list=[\"Machine Learning\",\"Neural Networks\",\"Vision\",\"Robotics\",\"Speech Processing\",\"Natural Language Processing\"]\n",
    "        for list in list:\n",
    "            print(list)\n",
    "        \n",
    "subfieldsai.subfields()"
   ]
  },
  {
   "cell_type": "code",
   "execution_count": 29,
   "id": "1540a6fe",
   "metadata": {},
   "outputs": [
    {
     "name": "stdout",
     "output_type": "stream",
     "text": [
      "enter a gender:male\n",
      "enter a age:20\n",
      "is not eligible\n"
     ]
    }
   ],
   "source": [
    "class eligibilityformarriage():\n",
    "    def eligibility():\n",
    "        gender=(input(\"enter a gender:\"))\n",
    "        age=int(input(\"enter a age:\"))\n",
    "        \n",
    "        if(gender==\"male\"):\n",
    "            if(age<=21):\n",
    "                print(\"is not eligible\")\n",
    "            else:\n",
    "                print(\"eligible\")\n",
    "                \n",
    "        elif(gender==\"female\"):\n",
    "            if(age<=18):\n",
    "                print(\"is not eligible\")\n",
    "            else:\n",
    "                print(\"eligible\")\n",
    "                \n",
    "eligibilityformarriage.eligibility()               \n",
    "                    "
   ]
  },
  {
   "cell_type": "code",
   "execution_count": 37,
   "id": "650d321a",
   "metadata": {},
   "outputs": [
    {
     "name": "stdout",
     "output_type": "stream",
     "text": [
      "total: 468\n",
      "percentage: 93.60000000000001\n"
     ]
    }
   ],
   "source": [
    "class findpercentage():\n",
    "    def percentage():\n",
    "        \n",
    "        Subject1= 98\n",
    "        Subject2= 87\n",
    "        Subject3= 95\n",
    "        Subject4= 95\n",
    "        Subject5= 93\n",
    "\n",
    "        totalMarks=Subject1 + Subject2 + Subject3 + Subject4 + Subject5\n",
    "\n",
    "        totalSub=5\n",
    "\n",
    "        percentage=(totalMarks/(totalSub*100))*100\n",
    "\n",
    "        print(\"total:\", totalMarks)\n",
    "        print(\"percentage:\", percentage)\n",
    "        \n",
    "findpercentage.percentage()"
   ]
  },
  {
   "cell_type": "code",
   "execution_count": 1,
   "id": "267bff6c",
   "metadata": {},
   "outputs": [
    {
     "name": "stdout",
     "output_type": "stream",
     "text": [
      "height:32\n",
      "breadth:34\n",
      "area of triangle: 544.0\n",
      "height1:2\n",
      "height2:4\n",
      "breadth4\n",
      "premeter of triangle: 10\n"
     ]
    }
   ],
   "source": [
    "class calculate():\n",
    "    def triangle():\n",
    "        height=int(input(\"height:\"))\n",
    "        breadth=int(input(\"breadth:\"))\n",
    "        \n",
    "        area=(height*breadth)/2\n",
    "        \n",
    "        print(\"area of triangle:\", area)\n",
    "        \n",
    "        height1=int(input(\"height1:\"))\n",
    "        height2=int(input(\"height2:\"))\n",
    "        breadth=int(input(\"breadth\"))\n",
    "        \n",
    "        perimeter=height1+height2+breadth\n",
    "        \n",
    "        print(\"premeter of triangle:\", perimeter)\n",
    "        \n",
    "calculate.triangle()    "
   ]
  },
  {
   "cell_type": "code",
   "execution_count": 4,
   "id": "557cb3dc",
   "metadata": {},
   "outputs": [
    {
     "name": "stdout",
     "output_type": "stream",
     "text": [
      "enter a gender:male\n",
      "enter a age:20\n",
      "is not eligible\n"
     ]
    }
   ],
   "source": [
    "class multiplefunctions():\n",
    "    def addeven():\n",
    "        num=int(input(\"enter the number\"))\n",
    "        if((num%2)==0):\n",
    "            print(num, \"is even number\")\n",
    "        else:\n",
    "            print(num, \"is odd number\")  \n",
    "            \n",
    "    def eligibility():\n",
    "        gender=(input(\"enter a gender:\"))\n",
    "        age=int(input(\"enter a age:\"))\n",
    "        \n",
    "        if(gender==\"male\"):\n",
    "            if(age<=21):\n",
    "                print(\"is not eligible\")\n",
    "            else:\n",
    "                print(\"eligible\")\n",
    "                \n",
    "        elif(gender==\"female\"):\n",
    "            if(age<=18):\n",
    "                print(\"is not eligible\")\n",
    "            else:\n",
    "                print(\"eligible\")          \n",
    "    \n",
    "multiplefunctions.eligibility()    "
   ]
  },
  {
   "cell_type": "code",
   "execution_count": null,
   "id": "dc42ed6b",
   "metadata": {},
   "outputs": [],
   "source": []
  }
 ],
 "metadata": {
  "kernelspec": {
   "display_name": "Python 3 (ipykernel)",
   "language": "python",
   "name": "python3"
  },
  "language_info": {
   "codemirror_mode": {
    "name": "ipython",
    "version": 3
   },
   "file_extension": ".py",
   "mimetype": "text/x-python",
   "name": "python",
   "nbconvert_exporter": "python",
   "pygments_lexer": "ipython3",
   "version": "3.11.5"
  }
 },
 "nbformat": 4,
 "nbformat_minor": 5
}
