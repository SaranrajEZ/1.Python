{
 "cells": [
  {
   "cell_type": "code",
   "execution_count": 1,
   "id": "05ed917d",
   "metadata": {},
   "outputs": [
    {
     "name": "stdout",
     "output_type": "stream",
     "text": [
      "enter the number:52452\n",
      "52452 is even number\n"
     ]
    }
   ],
   "source": [
    "def oddeven():\n",
    "    num=int(input(\"enter the number:\"))\n",
    "    if((num%2)==0):\n",
    "        print(num, \"is even number\")\n",
    "    else:\n",
    "        print(num, \"is odd number\")\n",
    "        \n",
    "oddeven()"
   ]
  },
  {
   "cell_type": "code",
   "execution_count": 2,
   "id": "773e09fa",
   "metadata": {},
   "outputs": [
    {
     "name": "stdout",
     "output_type": "stream",
     "text": [
      "sub fields in ai are:\n",
      "machine learning,nueral network, vision, robotics, speech practicing, natural language processing\n"
     ]
    }
   ],
   "source": [
    "def subfieldsinai():\n",
    "    print('sub fields in ai are:')\n",
    "    subfields=[\"machine learning,nueral network, vision, robotics, speech practicing, natural language processing\"]\n",
    "    for list in subfields:\n",
    "        print(list)\n",
    "        \n",
    "subfieldsinai()"
   ]
  },
  {
   "cell_type": "code",
   "execution_count": 29,
   "id": "bbfd1021",
   "metadata": {},
   "outputs": [
    {
     "name": "stdout",
     "output_type": "stream",
     "text": [
      "Your Gender: male\n",
      "Your Age: 20\n",
      "NOT ELIGIBLE\n"
     ]
    }
   ],
   "source": [
    "def EligibilityForMarriage(gender, age):\n",
    "    if gender.lower() == 'male':\n",
    "        if age >= 21:\n",
    "            return \"ELIGIBLE\"\n",
    "        else:\n",
    "            return \"NOT ELIGIBLE\"\n",
    "    elif gender.lower() == 'female':\n",
    "        if age >= 18:\n",
    "            return \"ELIGIBLE\"\n",
    "        else:\n",
    "            return \"NOT ELIGIBLE\"\n",
    "    else:\n",
    "        return \"Invalid gender\"\n",
    "\n",
    "gender = input(\"Your Gender: \")\n",
    "age = int(input(\"Your Age: \"))\n",
    "\n",
    "result = EligibilityForMarriage(gender, age)\n",
    "print(result)\n"
   ]
  },
  {
   "cell_type": "code",
   "execution_count": 2,
   "id": "47fd2e8c",
   "metadata": {},
   "outputs": [
    {
     "name": "stdout",
     "output_type": "stream",
     "text": [
      "Total : 468\n",
      "Percentage : 93.60000000000001\n"
     ]
    }
   ],
   "source": [
    "def percentage():\n",
    "    \n",
    "    Subject1 = 98\n",
    "    Subject2 = 87\n",
    "    Subject3 = 95\n",
    "    Subject4 = 95\n",
    "    Subject5 = 93\n",
    "\n",
    "    total_marks = Subject1 + Subject2 + Subject3 + Subject4 + Subject5\n",
    "\n",
    "    total_subjects = 5\n",
    "\n",
    "    percentage = (total_marks / (total_subjects * 100)) * 100\n",
    "\n",
    "    print(\"Total :\", total_marks)\n",
    "    print(\"Percentage :\", percentage)\n",
    "    \n",
    "percentage()\n"
   ]
  },
  {
   "cell_type": "code",
   "execution_count": 35,
   "id": "a55441c0",
   "metadata": {},
   "outputs": [
    {
     "name": "stdout",
     "output_type": "stream",
     "text": [
      "Height:32\n",
      "Breadth:34\n",
      "Area of Triangle: 544.0\n",
      "Height1:2\n",
      "Height2:4\n",
      "Breadth:4\n",
      "Perimeter of Triangle: 10\n"
     ]
    }
   ],
   "source": [
    "def triangle():\n",
    "    height=int(input(\"Height:\"))\n",
    "    breadth=int(input(\"Breadth:\"))\n",
    "    area=(height*breadth)/2\n",
    "    print(\"Area of Triangle:\",area)\n",
    "\n",
    "    height1=int(input(\"Height1:\"))\n",
    "    height2=int(input(\"Height2:\"))\n",
    "    breadth=int(input(\"Breadth:\"))\n",
    "    perimeter=height1+height2+breadth\n",
    "    print(\"Perimeter of Triangle:\",perimeter)\n",
    "    \n",
    "triangle()"
   ]
  },
  {
   "cell_type": "code",
   "execution_count": 11,
   "id": "c4e1195b",
   "metadata": {},
   "outputs": [
    {
     "name": "stdout",
     "output_type": "stream",
     "text": [
      "enter a gender:male\n",
      "enter a age:21\n",
      "eligible\n"
     ]
    }
   ],
   "source": [
    "gender=(input(\"enter a gender:\"))\n",
    "age=int(input(\"enter a age:\"))\n",
    "\n",
    "def eligibleformarriage():\n",
    "    if(age<=20):\n",
    "        print(\"not elible\")\n",
    "    else:\n",
    "        print(\"eligible\")\n",
    "    \n",
    "eligibleformarriage()"
   ]
  },
  {
   "cell_type": "code",
   "execution_count": null,
   "id": "951783f8",
   "metadata": {},
   "outputs": [],
   "source": []
  }
 ],
 "metadata": {
  "kernelspec": {
   "display_name": "Python 3 (ipykernel)",
   "language": "python",
   "name": "python3"
  },
  "language_info": {
   "codemirror_mode": {
    "name": "ipython",
    "version": 3
   },
   "file_extension": ".py",
   "mimetype": "text/x-python",
   "name": "python",
   "nbconvert_exporter": "python",
   "pygments_lexer": "ipython3",
   "version": "3.11.5"
  }
 },
 "nbformat": 4,
 "nbformat_minor": 5
}
