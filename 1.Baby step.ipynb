{
 "cells": [
  {
   "cell_type": "code",
   "execution_count": 1,
   "id": "fd412928",
   "metadata": {},
   "outputs": [
    {
     "name": "stdout",
     "output_type": "stream",
     "text": [
      "welcome to assignment-1\n"
     ]
    }
   ],
   "source": [
    "print(\"welcome to assignment-1\")"
   ]
  },
  {
   "cell_type": "code",
   "execution_count": 2,
   "id": "ce8093d7",
   "metadata": {},
   "outputs": [
    {
     "name": "stdout",
     "output_type": "stream",
     "text": [
      "num1= 10\n",
      "num2= 30\n",
      "add= 40\n"
     ]
    }
   ],
   "source": [
    "num1=10\n",
    "print(\"num1=\",num1)\n",
    "num2=30\n",
    "print(\"num2=\",num2)\n",
    "print(\"add=\",num1+num2)"
   ]
  },
  {
   "cell_type": "code",
   "execution_count": 3,
   "id": "f1846aee",
   "metadata": {},
   "outputs": [],
   "source": [
    "#bmi index"
   ]
  },
  {
   "cell_type": "code",
   "execution_count": null,
   "id": "91008231",
   "metadata": {},
   "outputs": [],
   "source": [
    "bmi=int(input(\"enter the BMI index:\"))\n",
    "if(bmi<18.5):\n",
    "    print(\"under weight\")\n",
    "elif(bmi<25):\n",
    "    print(\"normal weight\")\n",
    "elif(bmi<30):\n",
    "    print(\"over weight\")\n",
    "else:\n",
    "    print(\"very overweight\")"
   ]
  },
  {
   "cell_type": "code",
   "execution_count": null,
   "id": "a35cf048",
   "metadata": {},
   "outputs": [],
   "source": []
  },
  {
   "cell_type": "code",
   "execution_count": null,
   "id": "00e612c3",
   "metadata": {},
   "outputs": [],
   "source": []
  }
 ],
 "metadata": {
  "kernelspec": {
   "display_name": "Python 3 (ipykernel)",
   "language": "python",
   "name": "python3"
  },
  "language_info": {
   "codemirror_mode": {
    "name": "ipython",
    "version": 3
   },
   "file_extension": ".py",
   "mimetype": "text/x-python",
   "name": "python",
   "nbconvert_exporter": "python",
   "pygments_lexer": "ipython3",
   "version": "3.11.5"
  }
 },
 "nbformat": 4,
 "nbformat_minor": 5
}
