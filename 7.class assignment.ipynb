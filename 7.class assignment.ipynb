{
 "cells": [
  {
   "cell_type": "code",
   "execution_count": 1,
   "id": "6d0be9fd",
   "metadata": {},
   "outputs": [],
   "source": [
    "from multipleFunctions import multipleFunctions"
   ]
  },
  {
   "cell_type": "code",
   "execution_count": 2,
   "id": "4bbb5b0a",
   "metadata": {},
   "outputs": [
    {
     "name": "stdout",
     "output_type": "stream",
     "text": [
      "enter the number18\n",
      "18 is even number\n"
     ]
    }
   ],
   "source": [
    "multipleFunctions.addeven()"
   ]
  },
  {
   "cell_type": "code",
   "execution_count": 4,
   "id": "329a9a1a",
   "metadata": {},
   "outputs": [
    {
     "name": "stdout",
     "output_type": "stream",
     "text": [
      "enter a gender:male\n",
      "enter a age:22\n",
      "eligible\n"
     ]
    }
   ],
   "source": [
    "multipleFunctions.eligibility()"
   ]
  },
  {
   "cell_type": "code",
   "execution_count": 5,
   "id": "73daec4a",
   "metadata": {},
   "outputs": [
    {
     "name": "stdout",
     "output_type": "stream",
     "text": [
      "height:188\n",
      "breadth:100\n",
      "area of triangle: 9400.0\n",
      "height1:100\n",
      "height2:20\n",
      "breadth1\n",
      "premeter of triangle: 121\n"
     ]
    }
   ],
   "source": [
    "multipleFunctions.triangle()"
   ]
  },
  {
   "cell_type": "code",
   "execution_count": null,
   "id": "176a8355",
   "metadata": {},
   "outputs": [],
   "source": []
  }
 ],
 "metadata": {
  "kernelspec": {
   "display_name": "Python 3 (ipykernel)",
   "language": "python",
   "name": "python3"
  },
  "language_info": {
   "codemirror_mode": {
    "name": "ipython",
    "version": 3
   },
   "file_extension": ".py",
   "mimetype": "text/x-python",
   "name": "python",
   "nbconvert_exporter": "python",
   "pygments_lexer": "ipython3",
   "version": "3.11.5"
  }
 },
 "nbformat": 4,
 "nbformat_minor": 5
}
